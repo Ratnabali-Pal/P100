{
  "nbformat": 4,
  "nbformat_minor": 0,
  "metadata": {
    "colab": {
      "provenance": []
    },
    "kernelspec": {
      "name": "python3",
      "display_name": "Python 3"
    },
    "language_info": {
      "name": "python"
    }
  },
  "cells": [
    {
      "cell_type": "code",
      "execution_count": null,
      "metadata": {
        "colab": {
          "base_uri": "https://localhost:8080/"
        },
        "id": "8RmUAcj6soQH",
        "outputId": "57906a6b-17bf-4109-bf7e-e3439e4b803b"
      },
      "outputs": [
        {
          "output_type": "stream",
          "name": "stdout",
          "text": [
            "Drive already mounted at /content/gdrive; to attempt to forcibly remount, call drive.mount(\"/content/gdrive\", force_remount=True).\n"
          ]
        }
      ],
      "source": [
        "from google.colab import drive\n",
        "import os\n",
        "from os import listdir\n",
        "from os.path import isfile, join\n",
        "\n",
        "drive.mount(\"/content/gdrive\")\n",
        "os.chdir(\"/content/gdrive/MyDrive/Ratnabali PhD/audio\")\n"
      ]
    },
    {
      "cell_type": "code",
      "source": [
        "!pip install git+https://github.com/openai/whisper.git"
      ],
      "metadata": {
        "id": "5jyYaaL2tcPv",
        "colab": {
          "base_uri": "https://localhost:8080/"
        },
        "outputId": "9cf7a143-93ba-47e6-bc21-3e13a1fb7250"
      },
      "execution_count": null,
      "outputs": [
        {
          "output_type": "stream",
          "name": "stdout",
          "text": [
            "Looking in indexes: https://pypi.org/simple, https://us-python.pkg.dev/colab-wheels/public/simple/\n",
            "Collecting git+https://github.com/openai/whisper.git\n",
            "  Cloning https://github.com/openai/whisper.git to /tmp/pip-req-build-ly3_b8yh\n",
            "  Running command git clone -q https://github.com/openai/whisper.git /tmp/pip-req-build-ly3_b8yh\n",
            "Requirement already satisfied: numpy in /usr/local/lib/python3.7/dist-packages (from whisper==1.0) (1.21.6)\n",
            "Requirement already satisfied: torch in /usr/local/lib/python3.7/dist-packages (from whisper==1.0) (1.12.1+cu113)\n",
            "Requirement already satisfied: tqdm in /usr/local/lib/python3.7/dist-packages (from whisper==1.0) (4.64.1)\n",
            "Requirement already satisfied: more-itertools in /usr/local/lib/python3.7/dist-packages (from whisper==1.0) (9.0.0)\n",
            "Collecting transformers>=4.19.0\n",
            "  Downloading transformers-4.23.1-py3-none-any.whl (5.3 MB)\n",
            "\u001b[K     |████████████████████████████████| 5.3 MB 4.4 MB/s \n",
            "\u001b[?25hCollecting ffmpeg-python==0.2.0\n",
            "  Downloading ffmpeg_python-0.2.0-py3-none-any.whl (25 kB)\n",
            "Requirement already satisfied: future in /usr/local/lib/python3.7/dist-packages (from ffmpeg-python==0.2.0->whisper==1.0) (0.16.0)\n",
            "Requirement already satisfied: pyyaml>=5.1 in /usr/local/lib/python3.7/dist-packages (from transformers>=4.19.0->whisper==1.0) (6.0)\n",
            "Requirement already satisfied: packaging>=20.0 in /usr/local/lib/python3.7/dist-packages (from transformers>=4.19.0->whisper==1.0) (21.3)\n",
            "Requirement already satisfied: filelock in /usr/local/lib/python3.7/dist-packages (from transformers>=4.19.0->whisper==1.0) (3.8.0)\n",
            "Collecting huggingface-hub<1.0,>=0.10.0\n",
            "  Downloading huggingface_hub-0.10.1-py3-none-any.whl (163 kB)\n",
            "\u001b[K     |████████████████████████████████| 163 kB 70.8 MB/s \n",
            "\u001b[?25hCollecting tokenizers!=0.11.3,<0.14,>=0.11.1\n",
            "  Downloading tokenizers-0.13.1-cp37-cp37m-manylinux_2_17_x86_64.manylinux2014_x86_64.whl (7.6 MB)\n",
            "\u001b[K     |████████████████████████████████| 7.6 MB 25.9 MB/s \n",
            "\u001b[?25hRequirement already satisfied: importlib-metadata in /usr/local/lib/python3.7/dist-packages (from transformers>=4.19.0->whisper==1.0) (4.13.0)\n",
            "Requirement already satisfied: regex!=2019.12.17 in /usr/local/lib/python3.7/dist-packages (from transformers>=4.19.0->whisper==1.0) (2022.6.2)\n",
            "Requirement already satisfied: requests in /usr/local/lib/python3.7/dist-packages (from transformers>=4.19.0->whisper==1.0) (2.23.0)\n",
            "Requirement already satisfied: typing-extensions>=3.7.4.3 in /usr/local/lib/python3.7/dist-packages (from huggingface-hub<1.0,>=0.10.0->transformers>=4.19.0->whisper==1.0) (4.1.1)\n",
            "Requirement already satisfied: pyparsing!=3.0.5,>=2.0.2 in /usr/local/lib/python3.7/dist-packages (from packaging>=20.0->transformers>=4.19.0->whisper==1.0) (3.0.9)\n",
            "Requirement already satisfied: zipp>=0.5 in /usr/local/lib/python3.7/dist-packages (from importlib-metadata->transformers>=4.19.0->whisper==1.0) (3.9.0)\n",
            "Requirement already satisfied: chardet<4,>=3.0.2 in /usr/local/lib/python3.7/dist-packages (from requests->transformers>=4.19.0->whisper==1.0) (3.0.4)\n",
            "Requirement already satisfied: certifi>=2017.4.17 in /usr/local/lib/python3.7/dist-packages (from requests->transformers>=4.19.0->whisper==1.0) (2022.9.24)\n",
            "Requirement already satisfied: idna<3,>=2.5 in /usr/local/lib/python3.7/dist-packages (from requests->transformers>=4.19.0->whisper==1.0) (2.10)\n",
            "Requirement already satisfied: urllib3!=1.25.0,!=1.25.1,<1.26,>=1.21.1 in /usr/local/lib/python3.7/dist-packages (from requests->transformers>=4.19.0->whisper==1.0) (1.24.3)\n",
            "Building wheels for collected packages: whisper\n",
            "  Building wheel for whisper (setup.py) ... \u001b[?25l\u001b[?25hdone\n",
            "  Created wheel for whisper: filename=whisper-1.0-py3-none-any.whl size=1175217 sha256=d75201bb7c8af9387d6c0a6793f5531bde1c86c623738dda91eab824fc6aba4c\n",
            "  Stored in directory: /tmp/pip-ephem-wheel-cache-yq3duw9n/wheels/16/15/89/1c7bb31bd0006793a95549d04785121a8a36daad9158e1e43a\n",
            "Successfully built whisper\n",
            "Installing collected packages: tokenizers, huggingface-hub, transformers, ffmpeg-python, whisper\n",
            "Successfully installed ffmpeg-python-0.2.0 huggingface-hub-0.10.1 tokenizers-0.13.1 transformers-4.23.1 whisper-1.0\n"
          ]
        }
      ]
    },
    {
      "cell_type": "code",
      "source": [
        "import whisper\n",
        "\n",
        "model = whisper.load_model(\"base\")\n",
        "result = model.transcribe(\"1.wav\")\n",
        "print(result[\"text\"])"
      ],
      "metadata": {
        "colab": {
          "base_uri": "https://localhost:8080/"
        },
        "id": "ZF5pG8aFunyT",
        "outputId": "19d31c55-fcc3-4b9f-c4ac-e697bc104ddf"
      },
      "execution_count": null,
      "outputs": [
        {
          "output_type": "stream",
          "name": "stderr",
          "text": [
            "100%|████████████████████████████████████████| 139M/139M [00:01<00:00, 121MiB/s]\n",
            "/usr/local/lib/python3.7/dist-packages/whisper/transcribe.py:78: UserWarning: FP16 is not supported on CPU; using FP32 instead\n",
            "  warnings.warn(\"FP16 is not supported on CPU; using FP32 instead\")\n"
          ]
        },
        {
          "output_type": "stream",
          "name": "stdout",
          "text": [
            " It's up MKBHD here. Okay, so I'm in the last stages of my MacBook Pro review. Well, I've even asked them where it is. I'm not rushing it. It is not early. So sorry about that. But my final bits of testing include editing a full MKBHD video, shot in Red Code RAW, on the 16 inch M1 Max MacBook Pro. That's this video. So if you're seeing this, then that means at some point, I got through that whole process. So hopefully that went well. If it didn't go well, then check my Twitter because that's probably where I was complaining about how things went. Either way, that's next up. Until then, these are the most popular headphones on Earth. These are AirPods. So the new stuff that you're looking at here is AirPods 3. They were a quieter announcement at Last Month's Apple event, but they're 179. And honestly, the story with these is, well, there's quite a bit of new stuff, but also the competitive landscape for earbuds has been heating up for years and there have never been more high quality alternatives to AirPods than there are right now. So the new AirPods 3 design basically looks just like a set of AirPods Pro, but without the silicon tips, like someone chopped them off. It's the one size fits all hard tip from the AirPods of the past. And this is simultaneously its biggest advantage and its biggest downside for people like me. See, the shape is just slightly adjusted from previous hard tip AirPods. You can see it's more of a wedge shape where it goes into your ear. It's a slightly bigger opening at the end and it's a bit more of a larger bulb. But basically the idea is that it's pretty close to the common ear and it just pops in and sits there no problem. At least it's supposed to for most people, but for me, again, it's not the best fit. The left one happens to stay in pretty well, but then the right ones constantly feeling like it's slowly sliding out of my ear. And eventually it just falls out if I'm not constantly adjusting it. So it's pretty annoying, clearly not for me. And for that reason, I still prefer silicon tips instead of hard plastic. I am super jealous of all the people who just grab the AirPods and just put them in your ears and they just stay forever and just run around. I'm not one of those people. Oh well, but I did test these for a little bit. And there are some other new things aside from just the new design. So there's the controls on the stem now on both sides like AirPods Pro. You pretty quickly get used to squeezing it to play and pause, you can double tap to go to the next song, et cetera. There's no noise cancellation in these, but you can see the mesh cutout on the back and around all the mics all around this thing for adaptive EQ. It passes through some of the sound from the outside, mainly to feel a bit more open than some other earbuds. They are sweat and water resistant now. So if you wanna work out on them, you might have already done it, but they'll officially be fine now. And also if you walk around on the rain, no problem. And there's also a new horizontal case. Looks just like the AirPods Pro case, but it's a little bit smaller. And for the first time, the case is also officially IPX4 water resistant. So like they might have survived water in the past, but it's officially official now. Still lightning at the bottom, unfortunately, but this new case is now improved. It'll still do wireless charging, but it's also now MagSafe compatible, which just means it'll snap onto the iPhone's MagSafe charging puck. And it holds pretty well there too. This MagSafe wireless charging case isn't unique to AirPods 3 though, by the way. They quietly also updated the AirPods Pro case to also snap onto the magnets, but they didn't also update it for water resistance. So, small difference. What would have been even cooler is if you could trickle charge them via the cheat charging on the back of the iPhone, since they're both cheat charging, it would have been the sickest, like little ecosystem plug. They could have called it reverse MagSafe charging, but they don't talk to each other like that. It needs some extra hardware to reverse wireless charge. The iPhones don't have that, so that's not a real feature in this product, like it is with some other phones and their earbuds. Now, if you decide to grab the sexiest case on Earth, the Dbrand icons case, or pretty much any other AirPods case, no magnetic snapping, but yes, wireless charging does still work, if you're wondering. I'll have a link below to this case if you wanna protect your headphones, and make sure you get an AirPods 3 case specifically, because like I said, AirPods Pro cases are slightly different dimensions, they won't quite fit. But really, the most interesting change to AirPods, honestly, is this sound. They have a, and I can't believe I'm saying this, a perfectly respectable sound now. So it's legitimately very improved. I've trashed on AirPods in the past, as you guys have probably remembered, for how weak they sound, how tinny they've been. These AirPods, when they're set writing your ears, have much more body and bass frequencies now, and they get plenty loud as always, and they really do sound pretty solid. Now, the caveat is, one, there is no EQ built in, like a lot of other headphones have, and two, these were meant to still be good, basic everyday headphones. And so Apple has tuned them as such, meaning they've gotta be usable for phone calls, and podcasts, which have a lot of high focus on vocal frequencies, but also music listening, in a variety of genres, and then also movie watching, and everything in between. But one feature that sort of gets highlighted, at least every time Apple talks about these headphones, is spatial audio. Now, I don't typically use spatial audio very much, but every time I try these, I give another shot, and basically, there are two types of spatial audio experiences. So one is if you're just listening in music, or watching a video, and you can just force it on, with the iOS settings, and the head tracking turns on, and for most mixes, it basically sounds like you're suddenly in a small room, with a set of speakers in front of you. And as you turn your head from left to right, those speakers will sound like they continue to stay in front of you. But then two, there's a very small number of really well done mixes in Dolby Atmos, and you can find some on Apple Music, that actually do a great job of separating the instruments, and the channels, and sort of spreading them out around you, and this whole symphony, with a decent sound stage, and the AirPods do a good job of letting you kind of place the instruments and vocals around you in space, around your head. But I find that to be a pretty rare experience. If you get to listen to these, listen to a Blessings by Big Sean, that's one really good example. But again, these types of tracks are few and far between. But ultimately, the sound for me comes down to the hard-tipped plastic. They do sound much, much better, but unfortunately, I have one of the cursed ears that doesn't work with hard-tipped earbuds, so I would take silicon-typed earbuds every single time. Some people are the total other way around. So there's a lot of people comparing AirPods Pro with AirPods 3. I would personally pay the extra money for AirPods Pro. Also, right now, if you check on Amazon, AirPods Pro have been like 190 bucks for a while, and this is the new version too, with the updated case. So it's like 10 extra dollars to get the noise cancellation and the silicon tips. I'm picking that every single time, but for some people who don't care about that type of thing, this is what they'll pick. But that's really the summary for these headphones. They don't really do any one thing amazingly, meaning they'll get beat in certain single categories, but they do everything you'd want headphones to do daily, very well. They have a slightly longer, but totally reasonable, six-hour battery life. They have an all-around good tune that's not adjustable. They have a small case that wireless charges, and they fit great in the iPhone's ecosystem. They instantly pair with the rest of your iCloud devices, and seamlessly switch between them. And they have better find my ability now. So if you lose the case, which, I don't know how many people lose just the case, but if you do, you can use fine mine to track that down. It's not nearly as super precise as air tags, but it's very convenient to get a notification on your iPhone if you start to leave somewhere, and you realize you left your AirPods behind. But look at the whole rest of the landscape. It's way more diverse and interesting now. Beats Fit Pro just came out today. These have the best in-ear fit of any earbud I've ever worn. Wing tip, for the wind, they're amazing for working out. They have noise cancellation, but they have a kind of a still clunky case that also doesn't have wireless charging. Or check these, these are the Sony WF1000XM4. These also blow the AirPods out of the water in terms of sound quality. But if you've ever worn these, I mean, they're much bigger and don't really sit in the ear as comfortably, and you wouldn't work out in these and they're $250, so they're in a different price category. There's also the nothing ear buds that I reviewed which have a better battery life, but also a pretty big case that does wireless charge and it's a more interesting distinctive design, especially with the buds that I really like, but they don't fit as well in the iOS ecosystem. And then there's also Samsung's Buds II, which have a lot of the same stuff and wireless charging, but you get the idea. There's a lot out there. So AirPods are meant to sit right in the middle of the road. Like, they don't do any of the things amazingly in any one category, but they do everything pretty well and that's what makes them so easy to recommend. It's also, they came out right before the holiday season like they know I'm probably gonna end up getting these as a gift for some people. They're incredibly popular for that exact reason. But here's a fun fact. AirPods, if you just cut off AirPods from Apple and just made it its own separate company, AirPods Inc. That company would be worth about $175 billion. That's from an estimate from back in 2019, just looking at how many they're selling, approaching 100 million units, tons of revenue obviously, but can you imagine just a headphone company by itself with only like three models, being worth $175 billion? Like, just for some context, Logitech, which makes lots of headphones, but also plenty of other accessories is worth $14 billion. Sony, which makes headphones, but a ton of other stuff, they make movies, they make the PlayStation, they make phones and cameras. Sony's worth like $150 billion tops right now. So that's not to say these headphones are amazing, but that's to say they are probably the best lure to bring people into the iPhone ecosystem and they're all around extremely convenient. They're the easy choice. So there you have it. Thanks for watching. Hopefully the MacBook Pro isn't exploding, exporting this video. Catch you guys soon with that review. But until the next one, it's tech, thenber. That doesn't roll off the tongue as well. See you guys in the next video. Cheers.\n"
          ]
        }
      ]
    },
    {
      "cell_type": "code",
      "source": [
        "with open('out.txt', 'w') as output:\n",
        "    output.write(result[\"text\"])"
      ],
      "metadata": {
        "id": "Yz727duUxwDX"
      },
      "execution_count": null,
      "outputs": []
    },
    {
      "cell_type": "code",
      "source": [
        "from datetime import timedelta\n",
        "import os\n",
        "import whisper\n",
        "\n",
        "def transcribe_audio(path):\n",
        "    model = whisper.load_model(\"base\") # Change this to your desired model\n",
        "    print(\"Whisper model loaded.\")\n",
        "    transcribe = model.transcribe(audio=path)\n",
        "    segments = transcribe['segments']\n",
        "\n",
        "    for segment in segments:\n",
        "        startTime = str(0)+str(timedelta(seconds=int(segment['start'])))+',000'\n",
        "        endTime = str(0)+str(timedelta(seconds=int(segment['end'])))+',000'\n",
        "        text = segment['text']\n",
        "        segmentId = segment['id']+1\n",
        "        segment = f\"{segmentId}\\n{startTime} --> {endTime}\\n{text[1:] if text[0] is ' ' else text}\\n\\n\"\n",
        "\n",
        "        srtFilename = (\"1.srt\")\n",
        "        with open(srtFilename, 'a', encoding='utf-8') as srtFile:\n",
        "            srtFile.write(segment)\n",
        "\n",
        "    return srtFilename\n",
        "\n",
        "transcribe_audio(\"1.wav\")"
      ],
      "metadata": {
        "colab": {
          "base_uri": "https://localhost:8080/",
          "height": 88
        },
        "id": "kBbVIA_byLCp",
        "outputId": "b88ffa33-5e72-4333-c315-0b85b04c3701"
      },
      "execution_count": null,
      "outputs": [
        {
          "output_type": "stream",
          "name": "stdout",
          "text": [
            "Whisper model loaded.\n"
          ]
        },
        {
          "output_type": "stream",
          "name": "stderr",
          "text": [
            "/usr/local/lib/python3.7/dist-packages/whisper/transcribe.py:78: UserWarning: FP16 is not supported on CPU; using FP32 instead\n",
            "  warnings.warn(\"FP16 is not supported on CPU; using FP32 instead\")\n"
          ]
        },
        {
          "output_type": "execute_result",
          "data": {
            "text/plain": [
              "'1.srt'"
            ],
            "application/vnd.google.colaboratory.intrinsic+json": {
              "type": "string"
            }
          },
          "metadata": {},
          "execution_count": 10
        }
      ]
    },
    {
      "cell_type": "code",
      "source": [],
      "metadata": {
        "id": "A4D9JEgH4Z7E"
      },
      "execution_count": null,
      "outputs": []
    }
  ]
}