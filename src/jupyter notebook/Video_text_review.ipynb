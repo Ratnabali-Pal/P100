{
  "cells": [
    {
      "cell_type": "code",
      "execution_count": null,
      "metadata": {
        "colab": {
          "base_uri": "https://localhost:8080/"
        },
        "id": "LmeJXxOmhdqn",
        "outputId": "d7363827-e5f0-47e4-d2f4-821df3a6c241"
      },
      "outputs": [
        {
          "name": "stdout",
          "output_type": "stream",
          "text": [
            "Looking in indexes: https://pypi.org/simple, https://us-python.pkg.dev/colab-wheels/public/simple/\n",
            "Requirement already satisfied: pydub in /usr/local/lib/python3.7/dist-packages (0.25.1)\n"
          ]
        }
      ],
      "source": [
        "!pip3 install pydub"
      ]
    },
    {
      "cell_type": "code",
      "execution_count": null,
      "metadata": {
        "id": "hzoEiohOeku2"
      },
      "outputs": [],
      "source": [
        "!pip install SpeechRecognition\n",
        "from pydub import AudioSegment\n",
        "import math\n",
        "import speech_recognition as sr\n",
        "from os import listdir\n",
        "from os.path import isfile, join"
      ]
    },
    {
      "cell_type": "code",
      "execution_count": null,
      "metadata": {
        "id": "aIeDblbcyPPB"
      },
      "outputs": [],
      "source": [
        "class SplitWavAudioMubin():\n",
        "    def __init__(self, folder, filename):\n",
        "        self.folder = folder\n",
        "        self.filename = filename\n",
        "        self.filepath = folder + '/' + filename\n",
        "\n",
        "        self.audio = AudioSegment.from_wav(self.filepath)\n",
        "\n",
        "    def get_duration(self):\n",
        "        return self.audio.duration_seconds\n",
        "\n",
        "    def single_split(self, from_min, to_min, split_filename):\n",
        "        t1 = from_min * 60 * 1000\n",
        "        t2 = to_min * 60 * 1000\n",
        "        split_audio = self.audio[t1:t2]\n",
        "        split_audio.export(self.folder + '/' + split_filename, format=\"wav\")\n",
        "\n",
        "    def multiple_split(self, min_per_split):\n",
        "        # open a file where we will concatenate\n",
        "        # and store the recognized text\n",
        "        fh = open(self.filename.split('.')[0]+\".txt\", \"w+\")\n",
        "        total_mins = math.ceil(self.get_duration() / 60)\n",
        "        # create a speech recognition object\n",
        "        r = sr.Recognizer()\n",
        "\n",
        "        for i in range(0, total_mins, min_per_split):\n",
        "            split_fn = str(i) + '_' + self.filename\n",
        "            self.single_split(i, i+min_per_split, split_fn)\n",
        "            # get the name of the newly created chunk\n",
        "            # in the AUDIO_FILE variable for later use.\n",
        "            file = self.folder + '/'+split_fn\n",
        "            # recognize the chunk\n",
        "            with sr.AudioFile(file) as source:\n",
        "                # remove this if it is not working\n",
        "                # correctly.\n",
        "                #r.adjust_for_ambient_noise(source)\n",
        "                audio_listened = r.listen(source)\n",
        "\n",
        "            try:\n",
        "                # try converting it to text\n",
        "                rec = r.recognize_google(audio_listened)\n",
        "                # write the output to the file.\n",
        "                #fh.write(rec+\"[\"+str(i)+\" min]\")\n",
        "                fh.write(rec+\"@\"+str(i)+\"#\")\n",
        "\n",
        "            # catch any errors.\n",
        "            except sr.UnknownValueError:\n",
        "                print(\"Could not understand audio\")\n",
        "\n",
        "            except sr.RequestError as e:\n",
        "                print(\"Could not request results. check your internet connection\")\n",
        "                print(str(i) + ' Done')\n",
        "                if i == total_mins - min_per_split:\n",
        "                    print('All splited successfully')\n"
      ]
    },
    {
      "cell_type": "code",
      "execution_count": null,
      "metadata": {
        "colab": {
          "background_save": true,
          "base_uri": "https://localhost:8080/"
        },
        "id": "LjWHFCONs1a5",
        "outputId": "8fc7439b-e10c-49b9-d8d1-d432d3ab3b53"
      },
      "outputs": [
        {
          "name": "stdout",
          "output_type": "stream",
          "text": [
            "Could not understand audio\n",
            "Could not understand audio\n"
          ]
        }
      ],
      "source": [
        "if __name__ == '__main__':\n",
        "    dataset=\"AppleWatch8\"\n",
        "    #data_path=\"dataset/\"+dataset\n",
        "    audio_path=\"audio/\"+dataset\n",
        "    text_path=\"text/\"+dataset\n",
        "    folder = audio_path\n",
        "\n",
        "    audio_data = [f for f in listdir(audio_path) if isfile(join(audio_path, f))]\n",
        "    for a in audio_data:\n",
        "        file = a\n",
        "        split_wav = SplitWavAudioMubin(folder, file)\n",
        "        split_wav.multiple_split(min_per_split=1)"
      ]
    }
  ],
  "metadata": {
    "colab": {
      "provenance": []
    },
    "kernelspec": {
      "display_name": "Python 3",
      "name": "python3"
    },
    "language_info": {
      "name": "python"
    }
  },
  "nbformat": 4,
  "nbformat_minor": 0
}